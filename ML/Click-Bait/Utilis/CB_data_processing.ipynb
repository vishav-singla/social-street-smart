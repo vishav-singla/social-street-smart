{
 "cells": [
  {
   "cell_type": "code",
   "execution_count": 1,
   "metadata": {},
   "outputs": [],
   "source": [
    "import json\n",
    "import pandas as pd, numpy as np\n",
    "from tqdm import tqdm\n",
    "import string"
   ]
  },
  {
   "cell_type": "code",
   "execution_count": 2,
   "metadata": {},
   "outputs": [],
   "source": [
    "buzzfeed_CB= json.loads((open(r\"C:\\Users\\amkumar\\Desktop\\amardeep\\Click bait\\Data\\Raw\\buzzfeed.json\")).read())"
   ]
  },
  {
   "cell_type": "code",
   "execution_count": 3,
   "metadata": {},
   "outputs": [
    {
     "data": {
      "text/plain": [
       "{'article_title': '23 Life Lessons Cosmo Kramer Taught Us',\n",
       " 'clickbait': 1,\n",
       " 'response_count': 280,\n",
       " 'article_url': '/javiermoreno/ife-lessons-you-learned-from-cosmo-kramer',\n",
       " 'author': {'url': '/javiermoreno', 'name': 'Javier Moreno'}}"
      ]
     },
     "execution_count": 3,
     "metadata": {},
     "output_type": "execute_result"
    }
   ],
   "source": [
    "buzzfeed_CB[0]"
   ]
  },
  {
   "cell_type": "code",
   "execution_count": 4,
   "metadata": {},
   "outputs": [],
   "source": [
    "clickhole_CB = json.loads((open(r\"C:\\Users\\amkumar\\Desktop\\amardeep\\Click bait\\Data\\Raw\\clickhole.json\")).read())"
   ]
  },
  {
   "cell_type": "code",
   "execution_count": 5,
   "metadata": {},
   "outputs": [
    {
     "data": {
      "text/plain": [
       "{'article_title': 'And What A Year It’s Been: Looking Back On The Best, Worst, And Weirdest Stories That Made 2014 An Incredible Year For The Internet',\n",
       " 'clickbait': 1,\n",
       " 'article_url': '/article/and-what-year-its-been-looking-back-best-worst-and-1605'}"
      ]
     },
     "execution_count": 5,
     "metadata": {},
     "output_type": "execute_result"
    }
   ],
   "source": [
    "clickhole_CB[0]"
   ]
  },
  {
   "cell_type": "code",
   "execution_count": 6,
   "metadata": {},
   "outputs": [],
   "source": [
    "dose_CB=json.loads((open(r\"C:\\Users\\amkumar\\Desktop\\amardeep\\Click bait\\Data\\Raw\\dose.json\")).read())"
   ]
  },
  {
   "cell_type": "code",
   "execution_count": 7,
   "metadata": {},
   "outputs": [],
   "source": [
    "nyt_NCB = json.loads((open(r\"C:\\Users\\amkumar\\Desktop\\amardeep\\Click bait\\Data\\Raw\\nytimes.json\")).read())"
   ]
  },
  {
   "cell_type": "code",
   "execution_count": 8,
   "metadata": {},
   "outputs": [
    {
     "data": {
      "text/plain": [
       "({'article_title': \" This Artist Takes Kids' Drawings...But You'll Never Guess Why\",\n",
       "  'clickbait': 1,\n",
       "  'article_url': 'http://www.dose.com/lists/16905/This-Artist-Takes-Kids-Drawings-But-You-ll-Never-Guess-Why'},\n",
       " {'article_title': \"Nation's Smaller Jails Struggle To Cope With Surge in Inmates\",\n",
       "  'clickbait': 0,\n",
       "  'topic_code': '12',\n",
       "  'article_subject': 'Jails overwhelmed with hardened criminals',\n",
       "  'date': '1-Jan-96',\n",
       "  'article_id': '41246'})"
      ]
     },
     "execution_count": 8,
     "metadata": {},
     "output_type": "execute_result"
    }
   ],
   "source": [
    "dose_CB[0],nyt_NCB[0]"
   ]
  },
  {
   "cell_type": "code",
   "execution_count": 9,
   "metadata": {},
   "outputs": [],
   "source": [
    "other_CB_fp= open(r\"C:\\Users\\amkumar\\Desktop\\amardeep\\Click bait\\Data\\Raw\\clickbait.txt\",'r')"
   ]
  },
  {
   "cell_type": "code",
   "execution_count": 10,
   "metadata": {},
   "outputs": [],
   "source": [
    "other_CB= other_CB_fp.read().splitlines()"
   ]
  },
  {
   "cell_type": "code",
   "execution_count": 11,
   "metadata": {},
   "outputs": [
    {
     "data": {
      "text/plain": [
       "('10 Celebs Killin The Elf On The Shelf Game', 5637)"
      ]
     },
     "execution_count": 11,
     "metadata": {},
     "output_type": "execute_result"
    }
   ],
   "source": [
    "other_CB[0], len(other_CB)"
   ]
  },
  {
   "cell_type": "code",
   "execution_count": 12,
   "metadata": {},
   "outputs": [],
   "source": [
    "other_NCB_fp= open(r\"C:\\Users\\amkumar\\Desktop\\amardeep\\Click bait\\Data\\Raw\\genuine.txt\",'r')"
   ]
  },
  {
   "cell_type": "code",
   "execution_count": 13,
   "metadata": {},
   "outputs": [],
   "source": [
    "other_NCB= other_NCB_fp.read().splitlines()"
   ]
  },
  {
   "cell_type": "code",
   "execution_count": 14,
   "metadata": {},
   "outputs": [
    {
     "data": {
      "text/plain": [
       "('A simmering resentment', 6080)"
      ]
     },
     "execution_count": 14,
     "metadata": {},
     "output_type": "execute_result"
    }
   ],
   "source": [
    "other_NCB[0],len(other_NCB)"
   ]
  },
  {
   "cell_type": "code",
   "execution_count": 15,
   "metadata": {},
   "outputs": [],
   "source": [
    "pre_mergedData= pd.read_csv(r\"C:\\Users\\amkumar\\Desktop\\amardeep\\Click bait\\Data\\Raw\\Kaggle\\merged_dataset\\final.csv\")"
   ]
  },
  {
   "cell_type": "code",
   "execution_count": 16,
   "metadata": {},
   "outputs": [],
   "source": [
    "pre_merged_titles= pre_mergedData['targetTitle'].tolist()\n",
    "pre_merged_labels= [1 if x>=0.5 else 0 for x in pre_mergedData['truthMean']]"
   ]
  },
  {
   "cell_type": "code",
   "execution_count": 17,
   "metadata": {},
   "outputs": [
    {
     "data": {
      "text/plain": [
       "('‘Inexcusable’ failures in UK’s response to modern slavery leaving victims destitute while abusers go free, report warns',\n",
       " 0,\n",
       " 41256)"
      ]
     },
     "execution_count": 17,
     "metadata": {},
     "output_type": "execute_result"
    }
   ],
   "source": [
    "pre_merged_titles[0],pre_merged_labels[0], len(pre_merged_labels)"
   ]
  },
  {
   "cell_type": "code",
   "execution_count": 41,
   "metadata": {},
   "outputs": [
    {
     "data": {
      "text/plain": [
       "59173"
      ]
     },
     "execution_count": 41,
     "metadata": {},
     "output_type": "execute_result"
    }
   ],
   "source": [
    "len(buzzfeed_CB)+len(clickhole_CB)+len(dose_CB)+len(nyt_NCB)+len(other_CB)+len(other_NCB)+len(pre_merged_labels)"
   ]
  },
  {
   "cell_type": "code",
   "execution_count": 42,
   "metadata": {},
   "outputs": [],
   "source": [
    "data= {'id':[], 'titles':[], 'clickbait':[]}\n"
   ]
  },
  {
   "cell_type": "code",
   "execution_count": 43,
   "metadata": {},
   "outputs": [],
   "source": [
    "t=1;"
   ]
  },
  {
   "cell_type": "code",
   "execution_count": 44,
   "metadata": {},
   "outputs": [],
   "source": [
    "#for buzzfeed click bait data\n",
    "for x in buzzfeed_CB:\n",
    "    data['id'].append(t)\n",
    "    t+=1\n",
    "    data['titles'].append(x['article_title'])\n",
    "    data['clickbait'].append(x['clickbait'])\n",
    "    "
   ]
  },
  {
   "cell_type": "code",
   "execution_count": 45,
   "metadata": {},
   "outputs": [],
   "source": [
    "#for clickHole click bait data\n",
    "for x in clickhole_CB:\n",
    "    data['id'].append(t)\n",
    "    t+=1\n",
    "    data['titles'].append(x['article_title'])\n",
    "    data['clickbait'].append(x['clickbait'])"
   ]
  },
  {
   "cell_type": "code",
   "execution_count": 46,
   "metadata": {},
   "outputs": [],
   "source": [
    "#for dose click bait dataset\n",
    "for x in dose_CB:\n",
    "    data['id'].append(t)\n",
    "    t+=1\n",
    "    data['titles'].append(x['article_title'])\n",
    "    data['clickbait'].append(x['clickbait'])"
   ]
  },
  {
   "cell_type": "code",
   "execution_count": 47,
   "metadata": {},
   "outputs": [],
   "source": [
    "#for New york times click bait data\n",
    "for x in nyt_NCB:\n",
    "    data['id'].append(t)\n",
    "    t+=1\n",
    "    data['titles'].append(x['article_title'])\n",
    "    data['clickbait'].append(x['clickbait'])"
   ]
  },
  {
   "cell_type": "code",
   "execution_count": 48,
   "metadata": {},
   "outputs": [],
   "source": [
    "# for click bait data source from other sites\n",
    "for x in other_CB:\n",
    "    data['id'].append(t)\n",
    "    t+=1\n",
    "    data['titles'].append(x)\n",
    "    data['clickbait'].append(1)"
   ]
  },
  {
   "cell_type": "code",
   "execution_count": 49,
   "metadata": {},
   "outputs": [],
   "source": [
    "# for non click bait data source from other sites\n",
    "for x in other_NCB:\n",
    "    data['id'].append(t)\n",
    "    t+=1\n",
    "    data['titles'].append(x)\n",
    "    data['clickbait'].append(0)"
   ]
  },
  {
   "cell_type": "code",
   "execution_count": 50,
   "metadata": {},
   "outputs": [],
   "source": [
    "for i in range(len(pre_merged_labels)):\n",
    "    data['id'].append(t)\n",
    "    t+=1\n",
    "    data['titles'].append(pre_merged_titles[i])\n",
    "    data['clickbait'].append(pre_merged_labels[i])"
   ]
  },
  {
   "cell_type": "code",
   "execution_count": 51,
   "metadata": {},
   "outputs": [],
   "source": [
    "data= pd.DataFrame(data)"
   ]
  },
  {
   "cell_type": "code",
   "execution_count": 52,
   "metadata": {},
   "outputs": [],
   "source": [
    "#to shuffle data\n",
    "data= data.sample(frac=1)"
   ]
  },
  {
   "cell_type": "code",
   "execution_count": null,
   "metadata": {},
   "outputs": [],
   "source": []
  },
  {
   "cell_type": "code",
   "execution_count": 53,
   "metadata": {},
   "outputs": [
    {
     "data": {
      "text/plain": [
       "(numpy.int64, str, numpy.int64, 59173)"
      ]
     },
     "execution_count": 53,
     "metadata": {},
     "output_type": "execute_result"
    }
   ],
   "source": [
    "type(data['id'][0]), type(data['titles'][0]), type(data['clickbait'][0]), len(data['titles'])"
   ]
  },
  {
   "cell_type": "code",
   "execution_count": 54,
   "metadata": {},
   "outputs": [],
   "source": [
    "data=data.dropna().reset_index()"
   ]
  },
  {
   "cell_type": "code",
   "execution_count": 55,
   "metadata": {},
   "outputs": [],
   "source": [
    "data.to_csv('clickBait_Data.csv',index=False)"
   ]
  },
  {
   "cell_type": "code",
   "execution_count": 56,
   "metadata": {},
   "outputs": [
    {
     "data": {
      "text/html": [
       "<div>\n",
       "<style scoped>\n",
       "    .dataframe tbody tr th:only-of-type {\n",
       "        vertical-align: middle;\n",
       "    }\n",
       "\n",
       "    .dataframe tbody tr th {\n",
       "        vertical-align: top;\n",
       "    }\n",
       "\n",
       "    .dataframe thead th {\n",
       "        text-align: right;\n",
       "    }\n",
       "</style>\n",
       "<table border=\"1\" class=\"dataframe\">\n",
       "  <thead>\n",
       "    <tr style=\"text-align: right;\">\n",
       "      <th></th>\n",
       "      <th>index</th>\n",
       "      <th>id</th>\n",
       "      <th>titles</th>\n",
       "      <th>clickbait</th>\n",
       "    </tr>\n",
       "  </thead>\n",
       "  <tbody>\n",
       "    <tr>\n",
       "      <th>0</th>\n",
       "      <td>6574</td>\n",
       "      <td>6575</td>\n",
       "      <td>25 Things We Learned From Julia Louis-Dreyfus ...</td>\n",
       "      <td>1</td>\n",
       "    </tr>\n",
       "    <tr>\n",
       "      <th>1</th>\n",
       "      <td>39655</td>\n",
       "      <td>39656</td>\n",
       "      <td>John Brennan: Trump's 'Nazi Germany' tweet to ...</td>\n",
       "      <td>0</td>\n",
       "    </tr>\n",
       "    <tr>\n",
       "      <th>2</th>\n",
       "      <td>44513</td>\n",
       "      <td>44514</td>\n",
       "      <td>TruthRevolt.org: ISIS Stands For \"Israeli Secr...</td>\n",
       "      <td>0</td>\n",
       "    </tr>\n",
       "    <tr>\n",
       "      <th>3</th>\n",
       "      <td>44205</td>\n",
       "      <td>44206</td>\n",
       "      <td>Peak Millennial? Cities Cant Assume a Continue...</td>\n",
       "      <td>0</td>\n",
       "    </tr>\n",
       "    <tr>\n",
       "      <th>4</th>\n",
       "      <td>11106</td>\n",
       "      <td>11107</td>\n",
       "      <td>This Entire City Is Made Out Of Ice And It Wil...</td>\n",
       "      <td>1</td>\n",
       "    </tr>\n",
       "    <tr>\n",
       "      <th>5</th>\n",
       "      <td>23832</td>\n",
       "      <td>23833</td>\n",
       "      <td>35 Gifts For the Wanderlust-Obsessed Person In...</td>\n",
       "      <td>1</td>\n",
       "    </tr>\n",
       "    <tr>\n",
       "      <th>6</th>\n",
       "      <td>54796</td>\n",
       "      <td>54797</td>\n",
       "      <td>This Dudes Theory On Life After Death Has Gone...</td>\n",
       "      <td>1</td>\n",
       "    </tr>\n",
       "    <tr>\n",
       "      <th>7</th>\n",
       "      <td>35486</td>\n",
       "      <td>35487</td>\n",
       "      <td>Cat owners are more likely to be into BDSM tha...</td>\n",
       "      <td>1</td>\n",
       "    </tr>\n",
       "    <tr>\n",
       "      <th>8</th>\n",
       "      <td>25841</td>\n",
       "      <td>25842</td>\n",
       "      <td>Howard Schultz Stepping Down as Starbucks CEO ...</td>\n",
       "      <td>1</td>\n",
       "    </tr>\n",
       "    <tr>\n",
       "      <th>9</th>\n",
       "      <td>10306</td>\n",
       "      <td>10307</td>\n",
       "      <td>This Brother Sent Relatives Christmas Cards Sa...</td>\n",
       "      <td>1</td>\n",
       "    </tr>\n",
       "    <tr>\n",
       "      <th>10</th>\n",
       "      <td>33793</td>\n",
       "      <td>33794</td>\n",
       "      <td>ESPN Layoffs at Leading Edge of the Coming ‘Sp...</td>\n",
       "      <td>1</td>\n",
       "    </tr>\n",
       "    <tr>\n",
       "      <th>11</th>\n",
       "      <td>42970</td>\n",
       "      <td>42971</td>\n",
       "      <td>Selling pre activated SIM cards lands seven in...</td>\n",
       "      <td>0</td>\n",
       "    </tr>\n",
       "    <tr>\n",
       "      <th>12</th>\n",
       "      <td>56444</td>\n",
       "      <td>56445</td>\n",
       "      <td>You probably know to ask yourself, What do I w...</td>\n",
       "      <td>1</td>\n",
       "    </tr>\n",
       "    <tr>\n",
       "      <th>13</th>\n",
       "      <td>12481</td>\n",
       "      <td>12482</td>\n",
       "      <td>The honeymoon is already over for President Tr...</td>\n",
       "      <td>0</td>\n",
       "    </tr>\n",
       "    <tr>\n",
       "      <th>14</th>\n",
       "      <td>26288</td>\n",
       "      <td>26289</td>\n",
       "      <td>Jerry Brown: ‘We’re Not Going to Bring Stupid ...</td>\n",
       "      <td>1</td>\n",
       "    </tr>\n",
       "    <tr>\n",
       "      <th>15</th>\n",
       "      <td>40766</td>\n",
       "      <td>40767</td>\n",
       "      <td>Is reading a murder mystery somehow better tha...</td>\n",
       "      <td>0</td>\n",
       "    </tr>\n",
       "    <tr>\n",
       "      <th>16</th>\n",
       "      <td>12733</td>\n",
       "      <td>12734</td>\n",
       "      <td>Barry Green: Almost There review  inventive Ne...</td>\n",
       "      <td>0</td>\n",
       "    </tr>\n",
       "    <tr>\n",
       "      <th>17</th>\n",
       "      <td>46062</td>\n",
       "      <td>46063</td>\n",
       "      <td>Allies in Combat, Now Unwanted: Iraqi and Afgh...</td>\n",
       "      <td>0</td>\n",
       "    </tr>\n",
       "    <tr>\n",
       "      <th>18</th>\n",
       "      <td>25911</td>\n",
       "      <td>25912</td>\n",
       "      <td>Blue Jays' Chris Coghlan Soars over Cardinals ...</td>\n",
       "      <td>0</td>\n",
       "    </tr>\n",
       "    <tr>\n",
       "      <th>19</th>\n",
       "      <td>10933</td>\n",
       "      <td>10934</td>\n",
       "      <td>Obama Urges Trump \"To Think Long And Hard\" Bef...</td>\n",
       "      <td>1</td>\n",
       "    </tr>\n",
       "    <tr>\n",
       "      <th>20</th>\n",
       "      <td>58491</td>\n",
       "      <td>58492</td>\n",
       "      <td>Three Foods Surgeons Are Now Calling \"Death Fo...</td>\n",
       "      <td>1</td>\n",
       "    </tr>\n",
       "    <tr>\n",
       "      <th>21</th>\n",
       "      <td>49223</td>\n",
       "      <td>49224</td>\n",
       "      <td>These Sweet Little Girls Keep Dropping The F B...</td>\n",
       "      <td>1</td>\n",
       "    </tr>\n",
       "    <tr>\n",
       "      <th>22</th>\n",
       "      <td>50933</td>\n",
       "      <td>50934</td>\n",
       "      <td>19 Texts That Make You A Sarcastic Asshole</td>\n",
       "      <td>1</td>\n",
       "    </tr>\n",
       "    <tr>\n",
       "      <th>23</th>\n",
       "      <td>9674</td>\n",
       "      <td>9675</td>\n",
       "      <td>Jeff Sessions Denies Racism Allegations</td>\n",
       "      <td>1</td>\n",
       "    </tr>\n",
       "    <tr>\n",
       "      <th>24</th>\n",
       "      <td>15978</td>\n",
       "      <td>15979</td>\n",
       "      <td>Mumbai: For honey collectors, the going gets t...</td>\n",
       "      <td>0</td>\n",
       "    </tr>\n",
       "    <tr>\n",
       "      <th>25</th>\n",
       "      <td>9301</td>\n",
       "      <td>9302</td>\n",
       "      <td>8 Things We Loved About J.K. Rowlings New Harr...</td>\n",
       "      <td>1</td>\n",
       "    </tr>\n",
       "    <tr>\n",
       "      <th>26</th>\n",
       "      <td>38183</td>\n",
       "      <td>38184</td>\n",
       "      <td>West Bromwich Albions Fletcher and Brunt send ...</td>\n",
       "      <td>0</td>\n",
       "    </tr>\n",
       "    <tr>\n",
       "      <th>27</th>\n",
       "      <td>58489</td>\n",
       "      <td>58490</td>\n",
       "      <td>This Might Seem Like Any Other House, But Wait...</td>\n",
       "      <td>1</td>\n",
       "    </tr>\n",
       "    <tr>\n",
       "      <th>28</th>\n",
       "      <td>9346</td>\n",
       "      <td>9347</td>\n",
       "      <td>When I Started Writing Game Of Thrones, I Didn...</td>\n",
       "      <td>1</td>\n",
       "    </tr>\n",
       "    <tr>\n",
       "      <th>29</th>\n",
       "      <td>4204</td>\n",
       "      <td>4205</td>\n",
       "      <td>BASEBALL PLAYOFFS</td>\n",
       "      <td>0</td>\n",
       "    </tr>\n",
       "    <tr>\n",
       "      <th>...</th>\n",
       "      <td>...</td>\n",
       "      <td>...</td>\n",
       "      <td>...</td>\n",
       "      <td>...</td>\n",
       "    </tr>\n",
       "    <tr>\n",
       "      <th>59142</th>\n",
       "      <td>29619</td>\n",
       "      <td>29620</td>\n",
       "      <td>Sacramento Kings Ty Lawson Releasing Sneaker-S...</td>\n",
       "      <td>0</td>\n",
       "    </tr>\n",
       "    <tr>\n",
       "      <th>59143</th>\n",
       "      <td>52021</td>\n",
       "      <td>52022</td>\n",
       "      <td>This Buddhist Monk Is A Celebrity Makeup Artis...</td>\n",
       "      <td>1</td>\n",
       "    </tr>\n",
       "    <tr>\n",
       "      <th>59144</th>\n",
       "      <td>11008</td>\n",
       "      <td>11009</td>\n",
       "      <td>What Trumps Not Saying About His Infrastructur...</td>\n",
       "      <td>1</td>\n",
       "    </tr>\n",
       "    <tr>\n",
       "      <th>59145</th>\n",
       "      <td>29385</td>\n",
       "      <td>29386</td>\n",
       "      <td>Eaglet Hatches on Camera: What Are Its Chances...</td>\n",
       "      <td>1</td>\n",
       "    </tr>\n",
       "    <tr>\n",
       "      <th>59146</th>\n",
       "      <td>39071</td>\n",
       "      <td>39072</td>\n",
       "      <td>Apprentice contestant Summer Zervos sues Donal...</td>\n",
       "      <td>0</td>\n",
       "    </tr>\n",
       "    <tr>\n",
       "      <th>59147</th>\n",
       "      <td>44483</td>\n",
       "      <td>44484</td>\n",
       "      <td>The Deep State Goes to War With President-Elec...</td>\n",
       "      <td>0</td>\n",
       "    </tr>\n",
       "    <tr>\n",
       "      <th>59148</th>\n",
       "      <td>42449</td>\n",
       "      <td>42450</td>\n",
       "      <td>MP CM Shivraj Singh Chouhan announces sops for...</td>\n",
       "      <td>0</td>\n",
       "    </tr>\n",
       "    <tr>\n",
       "      <th>59149</th>\n",
       "      <td>5280</td>\n",
       "      <td>5281</td>\n",
       "      <td>Suspect in Holdups Is Enigmatic Figure, Even t...</td>\n",
       "      <td>0</td>\n",
       "    </tr>\n",
       "    <tr>\n",
       "      <th>59150</th>\n",
       "      <td>4626</td>\n",
       "      <td>4627</td>\n",
       "      <td>Murmurs in Baghdad Of a Weakened Boss</td>\n",
       "      <td>0</td>\n",
       "    </tr>\n",
       "    <tr>\n",
       "      <th>59151</th>\n",
       "      <td>40420</td>\n",
       "      <td>40421</td>\n",
       "      <td>Wine: why it makes sense to pair what you drin...</td>\n",
       "      <td>0</td>\n",
       "    </tr>\n",
       "    <tr>\n",
       "      <th>59152</th>\n",
       "      <td>19158</td>\n",
       "      <td>19159</td>\n",
       "      <td>Here’s What Executives Are Saying to Sharehold...</td>\n",
       "      <td>1</td>\n",
       "    </tr>\n",
       "    <tr>\n",
       "      <th>59153</th>\n",
       "      <td>31643</td>\n",
       "      <td>31644</td>\n",
       "      <td>Bipartisan group of senators calls for probe o...</td>\n",
       "      <td>1</td>\n",
       "    </tr>\n",
       "    <tr>\n",
       "      <th>59154</th>\n",
       "      <td>18166</td>\n",
       "      <td>18167</td>\n",
       "      <td>This Professional Cuddler Says He Has 'The Bes...</td>\n",
       "      <td>1</td>\n",
       "    </tr>\n",
       "    <tr>\n",
       "      <th>59155</th>\n",
       "      <td>38266</td>\n",
       "      <td>38267</td>\n",
       "      <td>Dear Jeremy  your work problems solved</td>\n",
       "      <td>0</td>\n",
       "    </tr>\n",
       "    <tr>\n",
       "      <th>59156</th>\n",
       "      <td>57146</td>\n",
       "      <td>57147</td>\n",
       "      <td>THIS Sickening Reason Is Why You Should NEVER ...</td>\n",
       "      <td>1</td>\n",
       "    </tr>\n",
       "    <tr>\n",
       "      <th>59157</th>\n",
       "      <td>10621</td>\n",
       "      <td>10622</td>\n",
       "      <td>The Wife Of A Putin Adviser Performed A Holoca...</td>\n",
       "      <td>1</td>\n",
       "    </tr>\n",
       "    <tr>\n",
       "      <th>59158</th>\n",
       "      <td>37111</td>\n",
       "      <td>37112</td>\n",
       "      <td>Wiley – five landmarks in the godfather of gri...</td>\n",
       "      <td>1</td>\n",
       "    </tr>\n",
       "    <tr>\n",
       "      <th>59159</th>\n",
       "      <td>50041</td>\n",
       "      <td>50042</td>\n",
       "      <td>21 Popular Music Artists That Actually Suck. I...</td>\n",
       "      <td>1</td>\n",
       "    </tr>\n",
       "    <tr>\n",
       "      <th>59160</th>\n",
       "      <td>2778</td>\n",
       "      <td>2779</td>\n",
       "      <td>Look closely at the background of Disney's bi...</td>\n",
       "      <td>1</td>\n",
       "    </tr>\n",
       "    <tr>\n",
       "      <th>59161</th>\n",
       "      <td>11963</td>\n",
       "      <td>11964</td>\n",
       "      <td>The psychologists' guide to networking</td>\n",
       "      <td>0</td>\n",
       "    </tr>\n",
       "    <tr>\n",
       "      <th>59162</th>\n",
       "      <td>17948</td>\n",
       "      <td>17949</td>\n",
       "      <td>Congresswomen meet to discuss missing women of...</td>\n",
       "      <td>1</td>\n",
       "    </tr>\n",
       "    <tr>\n",
       "      <th>59163</th>\n",
       "      <td>38649</td>\n",
       "      <td>38650</td>\n",
       "      <td>Led Bib: Umbrella Weather review  triumphant c...</td>\n",
       "      <td>0</td>\n",
       "    </tr>\n",
       "    <tr>\n",
       "      <th>59164</th>\n",
       "      <td>44607</td>\n",
       "      <td>44608</td>\n",
       "      <td>ADAMS Errors: WADA is unable to protect athlet...</td>\n",
       "      <td>0</td>\n",
       "    </tr>\n",
       "    <tr>\n",
       "      <th>59165</th>\n",
       "      <td>18474</td>\n",
       "      <td>18475</td>\n",
       "      <td>Apple Pledges New R&amp;D Centers in China</td>\n",
       "      <td>1</td>\n",
       "    </tr>\n",
       "    <tr>\n",
       "      <th>59166</th>\n",
       "      <td>55239</td>\n",
       "      <td>55240</td>\n",
       "      <td>Burger King Admits To Using Horse Meat In Burg...</td>\n",
       "      <td>1</td>\n",
       "    </tr>\n",
       "    <tr>\n",
       "      <th>59167</th>\n",
       "      <td>54021</td>\n",
       "      <td>54022</td>\n",
       "      <td>How Being Crap At Video Games Made Me A Better...</td>\n",
       "      <td>1</td>\n",
       "    </tr>\n",
       "    <tr>\n",
       "      <th>59168</th>\n",
       "      <td>1954</td>\n",
       "      <td>1955</td>\n",
       "      <td>25 Comics That Seem Innocent Until You Get To...</td>\n",
       "      <td>1</td>\n",
       "    </tr>\n",
       "    <tr>\n",
       "      <th>59169</th>\n",
       "      <td>20421</td>\n",
       "      <td>20422</td>\n",
       "      <td>Indonesians’ Taste for Dog Meat Is Growing, Ev...</td>\n",
       "      <td>1</td>\n",
       "    </tr>\n",
       "    <tr>\n",
       "      <th>59170</th>\n",
       "      <td>50011</td>\n",
       "      <td>50012</td>\n",
       "      <td>The 17 Dumbest People on Facebook in 2013</td>\n",
       "      <td>1</td>\n",
       "    </tr>\n",
       "    <tr>\n",
       "      <th>59171</th>\n",
       "      <td>40401</td>\n",
       "      <td>40402</td>\n",
       "      <td>Chris Brown v Soulja Boy: taking the beef to t...</td>\n",
       "      <td>0</td>\n",
       "    </tr>\n",
       "  </tbody>\n",
       "</table>\n",
       "<p>59172 rows × 4 columns</p>\n",
       "</div>"
      ],
      "text/plain": [
       "       index     id                                             titles  \\\n",
       "0       6574   6575  25 Things We Learned From Julia Louis-Dreyfus ...   \n",
       "1      39655  39656  John Brennan: Trump's 'Nazi Germany' tweet to ...   \n",
       "2      44513  44514  TruthRevolt.org: ISIS Stands For \"Israeli Secr...   \n",
       "3      44205  44206  Peak Millennial? Cities Cant Assume a Continue...   \n",
       "4      11106  11107  This Entire City Is Made Out Of Ice And It Wil...   \n",
       "5      23832  23833  35 Gifts For the Wanderlust-Obsessed Person In...   \n",
       "6      54796  54797  This Dudes Theory On Life After Death Has Gone...   \n",
       "7      35486  35487  Cat owners are more likely to be into BDSM tha...   \n",
       "8      25841  25842  Howard Schultz Stepping Down as Starbucks CEO ...   \n",
       "9      10306  10307  This Brother Sent Relatives Christmas Cards Sa...   \n",
       "10     33793  33794  ESPN Layoffs at Leading Edge of the Coming ‘Sp...   \n",
       "11     42970  42971  Selling pre activated SIM cards lands seven in...   \n",
       "12     56444  56445  You probably know to ask yourself, What do I w...   \n",
       "13     12481  12482  The honeymoon is already over for President Tr...   \n",
       "14     26288  26289  Jerry Brown: ‘We’re Not Going to Bring Stupid ...   \n",
       "15     40766  40767  Is reading a murder mystery somehow better tha...   \n",
       "16     12733  12734  Barry Green: Almost There review  inventive Ne...   \n",
       "17     46062  46063  Allies in Combat, Now Unwanted: Iraqi and Afgh...   \n",
       "18     25911  25912  Blue Jays' Chris Coghlan Soars over Cardinals ...   \n",
       "19     10933  10934  Obama Urges Trump \"To Think Long And Hard\" Bef...   \n",
       "20     58491  58492  Three Foods Surgeons Are Now Calling \"Death Fo...   \n",
       "21     49223  49224  These Sweet Little Girls Keep Dropping The F B...   \n",
       "22     50933  50934         19 Texts That Make You A Sarcastic Asshole   \n",
       "23      9674   9675            Jeff Sessions Denies Racism Allegations   \n",
       "24     15978  15979  Mumbai: For honey collectors, the going gets t...   \n",
       "25      9301   9302  8 Things We Loved About J.K. Rowlings New Harr...   \n",
       "26     38183  38184  West Bromwich Albions Fletcher and Brunt send ...   \n",
       "27     58489  58490  This Might Seem Like Any Other House, But Wait...   \n",
       "28      9346   9347  When I Started Writing Game Of Thrones, I Didn...   \n",
       "29      4204   4205                                  BASEBALL PLAYOFFS   \n",
       "...      ...    ...                                                ...   \n",
       "59142  29619  29620  Sacramento Kings Ty Lawson Releasing Sneaker-S...   \n",
       "59143  52021  52022  This Buddhist Monk Is A Celebrity Makeup Artis...   \n",
       "59144  11008  11009  What Trumps Not Saying About His Infrastructur...   \n",
       "59145  29385  29386  Eaglet Hatches on Camera: What Are Its Chances...   \n",
       "59146  39071  39072  Apprentice contestant Summer Zervos sues Donal...   \n",
       "59147  44483  44484  The Deep State Goes to War With President-Elec...   \n",
       "59148  42449  42450  MP CM Shivraj Singh Chouhan announces sops for...   \n",
       "59149   5280   5281  Suspect in Holdups Is Enigmatic Figure, Even t...   \n",
       "59150   4626   4627              Murmurs in Baghdad Of a Weakened Boss   \n",
       "59151  40420  40421  Wine: why it makes sense to pair what you drin...   \n",
       "59152  19158  19159  Here’s What Executives Are Saying to Sharehold...   \n",
       "59153  31643  31644  Bipartisan group of senators calls for probe o...   \n",
       "59154  18166  18167  This Professional Cuddler Says He Has 'The Bes...   \n",
       "59155  38266  38267             Dear Jeremy  your work problems solved   \n",
       "59156  57146  57147  THIS Sickening Reason Is Why You Should NEVER ...   \n",
       "59157  10621  10622  The Wife Of A Putin Adviser Performed A Holoca...   \n",
       "59158  37111  37112  Wiley – five landmarks in the godfather of gri...   \n",
       "59159  50041  50042  21 Popular Music Artists That Actually Suck. I...   \n",
       "59160   2778   2779   Look closely at the background of Disney's bi...   \n",
       "59161  11963  11964             The psychologists' guide to networking   \n",
       "59162  17948  17949  Congresswomen meet to discuss missing women of...   \n",
       "59163  38649  38650  Led Bib: Umbrella Weather review  triumphant c...   \n",
       "59164  44607  44608  ADAMS Errors: WADA is unable to protect athlet...   \n",
       "59165  18474  18475         Apple Pledges New R&D Centers in China       \n",
       "59166  55239  55240  Burger King Admits To Using Horse Meat In Burg...   \n",
       "59167  54021  54022  How Being Crap At Video Games Made Me A Better...   \n",
       "59168   1954   1955   25 Comics That Seem Innocent Until You Get To...   \n",
       "59169  20421  20422  Indonesians’ Taste for Dog Meat Is Growing, Ev...   \n",
       "59170  50011  50012          The 17 Dumbest People on Facebook in 2013   \n",
       "59171  40401  40402  Chris Brown v Soulja Boy: taking the beef to t...   \n",
       "\n",
       "       clickbait  \n",
       "0              1  \n",
       "1              0  \n",
       "2              0  \n",
       "3              0  \n",
       "4              1  \n",
       "5              1  \n",
       "6              1  \n",
       "7              1  \n",
       "8              1  \n",
       "9              1  \n",
       "10             1  \n",
       "11             0  \n",
       "12             1  \n",
       "13             0  \n",
       "14             1  \n",
       "15             0  \n",
       "16             0  \n",
       "17             0  \n",
       "18             0  \n",
       "19             1  \n",
       "20             1  \n",
       "21             1  \n",
       "22             1  \n",
       "23             1  \n",
       "24             0  \n",
       "25             1  \n",
       "26             0  \n",
       "27             1  \n",
       "28             1  \n",
       "29             0  \n",
       "...          ...  \n",
       "59142          0  \n",
       "59143          1  \n",
       "59144          1  \n",
       "59145          1  \n",
       "59146          0  \n",
       "59147          0  \n",
       "59148          0  \n",
       "59149          0  \n",
       "59150          0  \n",
       "59151          0  \n",
       "59152          1  \n",
       "59153          1  \n",
       "59154          1  \n",
       "59155          0  \n",
       "59156          1  \n",
       "59157          1  \n",
       "59158          1  \n",
       "59159          1  \n",
       "59160          1  \n",
       "59161          0  \n",
       "59162          1  \n",
       "59163          0  \n",
       "59164          0  \n",
       "59165          1  \n",
       "59166          1  \n",
       "59167          1  \n",
       "59168          1  \n",
       "59169          1  \n",
       "59170          1  \n",
       "59171          0  \n",
       "\n",
       "[59172 rows x 4 columns]"
      ]
     },
     "execution_count": 56,
     "metadata": {},
     "output_type": "execute_result"
    }
   ],
   "source": [
    "pd.read_csv('clickBait_Data.csv')"
   ]
  }
 ],
 "metadata": {
  "kernelspec": {
   "display_name": "Python 3",
   "language": "python",
   "name": "python3"
  },
  "language_info": {
   "codemirror_mode": {
    "name": "ipython",
    "version": 3
   },
   "file_extension": ".py",
   "mimetype": "text/x-python",
   "name": "python",
   "nbconvert_exporter": "python",
   "pygments_lexer": "ipython3",
   "version": "3.7.3"
  }
 },
 "nbformat": 4,
 "nbformat_minor": 2
}
