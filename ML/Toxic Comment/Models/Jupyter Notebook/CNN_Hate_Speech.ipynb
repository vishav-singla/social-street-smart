{
 "cells": [
  {
   "cell_type": "markdown",
   "metadata": {},
   "source": [
    "\n",
    "# Hate Speech Model using CNN\n",
    "## Following notebook train and save weights of a CNN on a hate speech dataset\n",
    "[You can download the dataset used from here](https://www.kaggle.com/c/jigsaw-toxic-comment-classification-challenge/ \"jigsaw-dataset\") <br>\n",
    "\n",
    "[Glove word embeddings used can be downloaded from here](https://nlp.stanford.edu/projects/glove/)\n"
   ]
  },
  {
   "cell_type": "code",
   "execution_count": 1,
   "metadata": {},
   "outputs": [
    {
     "name": "stderr",
     "output_type": "stream",
     "text": [
      "Using TensorFlow backend.\n",
      "/home/utsav/.local/lib/python2.7/site-packages/requests/__init__.py:83: RequestsDependencyWarning: Old version of cryptography ([1, 2, 3]) may cause slowdown.\n",
      "  warnings.warn(warning, RequestsDependencyWarning)\n"
     ]
    }
   ],
   "source": [
    "#importing packages\n",
    "\n",
    "from __future__ import print_function, division\n",
    "from builtins import range\n",
    "import os\n",
    "import sys\n",
    "import numpy as np\n",
    "import pandas as pd\n",
    "import matplotlib.pyplot as plt\n",
    "from keras.preprocessing.text import Tokenizer\n",
    "from keras.preprocessing.sequence import pad_sequences\n",
    "from keras.layers import Dense, Input, GlobalMaxPooling1D\n",
    "from keras.layers import Conv1D, MaxPooling1D, Embedding,Dropout\n",
    "from keras.models import Model\n",
    "from keras.layers import SpatialDropout1D\n",
    "from sklearn.metrics import roc_auc_score\n",
    "from keras.models import model_from_json\n",
    "from keras import regularizers\n",
    "from keras import optimizers\n"
   ]
  },
  {
   "cell_type": "code",
   "execution_count": 13,
   "metadata": {},
   "outputs": [],
   "source": [
    "# some configuration \n",
    "MAX_SEQUENCE_LENGTH = 200\n",
    "MAX_VOCAB_SIZE = 22000\n",
    "EMBEDDING_DIM = 50\n",
    "VALIDATION_SPLIT = 0.2\n",
    "BATCH_SIZE = 128\n",
    "EPOCHS = 20"
   ]
  },
  {
   "cell_type": "code",
   "execution_count": 3,
   "metadata": {},
   "outputs": [
    {
     "name": "stdout",
     "output_type": "stream",
     "text": [
      "Loading word vectors...\n",
      "Found 400000 word vectors.\n"
     ]
    }
   ],
   "source": [
    "# load in pre-trained word vectors\n",
    "print('Loading word vectors...')\n",
    "word2vec = {}\n",
    "with open(os.path.join('glove.6B.%sd.txt' % EMBEDDING_DIM)) as f:\n",
    "  # word embedding file is just a space-separated text file in the format:\n",
    "  # word vec[0] vec[1] vec[2] ...\n",
    "  for line in f:\n",
    "    values = line.split()\n",
    "    word = values[0]\n",
    "    vec = np.asarray(values[1:], dtype='float32')\n",
    "    word2vec[word] = vec\n",
    "print('Found %s word vectors.' % len(word2vec))"
   ]
  },
  {
   "cell_type": "code",
   "execution_count": 4,
   "metadata": {},
   "outputs": [
    {
     "name": "stdout",
     "output_type": "stream",
     "text": [
      "Loading in comments...\n",
      "Shape of data: (159571, 8)\n",
      "First 5 rows:                  id                                       comment_text  toxic  \\\n",
      "0  0000997932d777bf  Explanation\\nWhy the edits made under my usern...      0   \n",
      "1  000103f0d9cfb60f  D'aww! He matches this background colour I'm s...      0   \n",
      "2  000113f07ec002fd  Hey man, I'm really not trying to edit war. It...      0   \n",
      "3  0001b41b1c6bb37e  \"\\nMore\\nI can't make any real suggestions on ...      0   \n",
      "4  0001d958c54c6e35  You, sir, are my hero. Any chance you remember...      0   \n",
      "\n",
      "   severe_toxic  obscene  threat  insult  identity_hate  \n",
      "0             0        0       0       0              0  \n",
      "1             0        0       0       0              0  \n",
      "2             0        0       0       0              0  \n",
      "3             0        0       0       0              0  \n",
      "4             0        0       0       0              0  \n"
     ]
    }
   ],
   "source": [
    "# prepare text samples and their labels\n",
    "print('Loading in comments...')\n",
    "\n",
    "train = pd.read_csv(\"train.csv\")\n",
    "sentences = train[\"comment_text\"].fillna(\"DUMMY_VALUE\").values # there are no na values in the data though\n",
    "possible_labels = [\"toxic\", \"severe_toxic\", \"obscene\", \"threat\", \"insult\", \"identity_hate\"]\n",
    "targets = train[possible_labels].values\n",
    "print (\"Shape of data:\",(train.shape))\n",
    "print (\"First 5 rows:\",(train.head()))\n"
   ]
  },
  {
   "cell_type": "code",
   "execution_count": 5,
   "metadata": {},
   "outputs": [
    {
     "name": "stdout",
     "output_type": "stream",
     "text": [
      "max sequence length: 1400\n",
      "min sequence length: 0\n",
      "median sentences length: 35\n"
     ]
    }
   ],
   "source": [
    "# convert the sentences (strings) into integers\n",
    "tokenizer = Tokenizer(num_words=MAX_VOCAB_SIZE)\n",
    "tokenizer.fit_on_texts(sentences)\n",
    "sequences = tokenizer.texts_to_sequences(sentences)\n",
    "\n",
    "print(\"max sequence length:\", max(len(s) for s in sequences))\n",
    "print(\"min sequence length:\", min(len(s) for s in sequences))\n",
    "s = sorted(len(s) for s in sequences)\n",
    "print(\"median sentences length:\", s[len(s) // 2])\n"
   ]
  },
  {
   "cell_type": "code",
   "execution_count": 6,
   "metadata": {},
   "outputs": [
    {
     "name": "stdout",
     "output_type": "stream",
     "text": [
      "Found 210554 unique tokens.\n"
     ]
    }
   ],
   "source": [
    "# get word -> integer mapping\n",
    "word2idx = tokenizer.word_index\n",
    "data = pad_sequences(sequences, maxlen=MAX_SEQUENCE_LENGTH)\n",
    "print('Found %s unique tokens.' % len(word2idx))\n"
   ]
  },
  {
   "cell_type": "code",
   "execution_count": 7,
   "metadata": {},
   "outputs": [
    {
     "name": "stdout",
     "output_type": "stream",
     "text": [
      "Filling pre-trained embeddings...\n",
      "Completed...\n"
     ]
    }
   ],
   "source": [
    "# prepare embedding matrix\n",
    "print('Filling pre-trained embeddings...')\n",
    "num_words = min(MAX_VOCAB_SIZE, len(word2idx) + 1)\n",
    "embedding_matrix = np.zeros((num_words, EMBEDDING_DIM))\n",
    "for word, i in word2idx.items():\n",
    "  if i < MAX_VOCAB_SIZE:\n",
    "    embedding_vector = word2vec.get(word)\n",
    "    if embedding_vector is not None:\n",
    "      # words not found in embedding index will be all zeros.\n",
    "      embedding_matrix[i] = embedding_vector\n",
    "\n",
    "print('Completed...')"
   ]
  },
  {
   "cell_type": "code",
   "execution_count": 14,
   "metadata": {},
   "outputs": [],
   "source": [
    "# load pre-trained word embeddings into an Embedding layer\n",
    "embedding_layer = Embedding(\n",
    "  num_words,\n",
    "  EMBEDDING_DIM,\n",
    "  weights=[embedding_matrix],\n",
    "  input_length=MAX_SEQUENCE_LENGTH,\n",
    "  trainable=False\n",
    ")\n"
   ]
  },
  {
   "cell_type": "code",
   "execution_count": 15,
   "metadata": {},
   "outputs": [
    {
     "name": "stdout",
     "output_type": "stream",
     "text": [
      "Building model...\n",
      "##############\n",
      "Model built...\n",
      "_________________________________________________________________\n",
      "Layer (type)                 Output Shape              Param #   \n",
      "=================================================================\n",
      "input_3 (InputLayer)         (None, 200)               0         \n",
      "_________________________________________________________________\n",
      "embedding_2 (Embedding)      (None, 200, 50)           1100000   \n",
      "_________________________________________________________________\n",
      "spatial_dropout1d_3 (Spatial (None, 200, 50)           0         \n",
      "_________________________________________________________________\n",
      "conv1d_7 (Conv1D)            (None, 198, 128)          19328     \n",
      "_________________________________________________________________\n",
      "max_pooling1d_5 (MaxPooling1 (None, 66, 128)           0         \n",
      "_________________________________________________________________\n",
      "dropout_7 (Dropout)          (None, 66, 128)           0         \n",
      "_________________________________________________________________\n",
      "conv1d_8 (Conv1D)            (None, 64, 128)           49280     \n",
      "_________________________________________________________________\n",
      "max_pooling1d_6 (MaxPooling1 (None, 21, 128)           0         \n",
      "_________________________________________________________________\n",
      "dropout_8 (Dropout)          (None, 21, 128)           0         \n",
      "_________________________________________________________________\n",
      "conv1d_9 (Conv1D)            (None, 19, 128)           49280     \n",
      "_________________________________________________________________\n",
      "global_max_pooling1d_3 (Glob (None, 128)               0         \n",
      "_________________________________________________________________\n",
      "dense_5 (Dense)              (None, 128)               16512     \n",
      "_________________________________________________________________\n",
      "dropout_9 (Dropout)          (None, 128)               0         \n",
      "_________________________________________________________________\n",
      "dense_6 (Dense)              (None, 6)                 774       \n",
      "=================================================================\n",
      "Total params: 1,235,174\n",
      "Trainable params: 135,174\n",
      "Non-trainable params: 1,100,000\n",
      "_________________________________________________________________\n",
      "None\n"
     ]
    }
   ],
   "source": [
    "print('Building model...')\n",
    "\n",
    "# train a 1D convnet with global maxpooling\n",
    "#spatial dropouts and L2 regularizers are used to prevent overfitting\n",
    "\n",
    "input_ = Input(shape=(MAX_SEQUENCE_LENGTH,))\n",
    "x = embedding_layer(input_)\n",
    "x = SpatialDropout1D(0.4)(x)\n",
    "x = Conv1D(128, 3, activation='relu')(x)\n",
    "x = MaxPooling1D(3)(x)\n",
    "x = Dropout(0.3)(x)\n",
    "x = Conv1D(128, 3, activation='relu')(x)\n",
    "x = MaxPooling1D(3)(x)\n",
    "x = Dropout(0.3)(x)\n",
    "x = Conv1D(128, 3, activation='relu')(x)\n",
    "x = GlobalMaxPooling1D()(x)\n",
    "x = Dense(128, activation='relu')(x)\n",
    "x = Dropout(0.3)(x)\n",
    "output = Dense(len(possible_labels), activation='sigmoid')(x)\n",
    "\n",
    "model = Model(input_, output)\n",
    "model.compile(\n",
    "  loss='binary_crossentropy',\n",
    "  optimizer= optimizers.Adam(lr=0.0008),\n",
    "  metrics=['accuracy']\n",
    ")\n",
    "print('##############')\n",
    "print('Model built...')\n",
    "print(model.summary())"
   ]
  },
  {
   "cell_type": "code",
   "execution_count": 16,
   "metadata": {
    "scrolled": true
   },
   "outputs": [
    {
     "name": "stdout",
     "output_type": "stream",
     "text": [
      "Training model...\n",
      "Train on 127656 samples, validate on 31915 samples\n",
      "Epoch 1/20\n",
      "127656/127656 [==============================] - 221s 2ms/step - loss: 0.1067 - acc: 0.9674 - val_loss: 0.0879 - val_acc: 0.9737\n",
      "Epoch 2/20\n",
      "127656/127656 [==============================] - 221s 2ms/step - loss: 0.0883 - acc: 0.9712 - val_loss: 0.0825 - val_acc: 0.9742\n",
      "Epoch 3/20\n",
      "127656/127656 [==============================] - 221s 2ms/step - loss: 0.0856 - acc: 0.9722 - val_loss: 0.0789 - val_acc: 0.9750\n",
      "Epoch 4/20\n",
      "127656/127656 [==============================] - 222s 2ms/step - loss: 0.0839 - acc: 0.9727 - val_loss: 0.0817 - val_acc: 0.9749\n",
      "Epoch 5/20\n",
      "127656/127656 [==============================] - 221s 2ms/step - loss: 0.0827 - acc: 0.9727 - val_loss: 0.0793 - val_acc: 0.9753\n",
      "Epoch 6/20\n",
      "127656/127656 [==============================] - 221s 2ms/step - loss: 0.0814 - acc: 0.9731 - val_loss: 0.0751 - val_acc: 0.9755\n",
      "Epoch 7/20\n",
      "127656/127656 [==============================] - 223s 2ms/step - loss: 0.0804 - acc: 0.9734 - val_loss: 0.0782 - val_acc: 0.9756\n",
      "Epoch 8/20\n",
      "127656/127656 [==============================] - 221s 2ms/step - loss: 0.0800 - acc: 0.9734 - val_loss: 0.0761 - val_acc: 0.9756\n",
      "Epoch 9/20\n",
      "127656/127656 [==============================] - 241s 2ms/step - loss: 0.0795 - acc: 0.9736 - val_loss: 0.0742 - val_acc: 0.9759\n",
      "Epoch 10/20\n",
      "127656/127656 [==============================] - 223s 2ms/step - loss: 0.0788 - acc: 0.9739 - val_loss: 0.0751 - val_acc: 0.9758\n",
      "Epoch 11/20\n",
      "127656/127656 [==============================] - 222s 2ms/step - loss: 0.0785 - acc: 0.9739 - val_loss: 0.0735 - val_acc: 0.9758\n",
      "Epoch 12/20\n",
      "127656/127656 [==============================] - 222s 2ms/step - loss: 0.0782 - acc: 0.9740 - val_loss: 0.0741 - val_acc: 0.9759\n",
      "Epoch 13/20\n",
      "127656/127656 [==============================] - 222s 2ms/step - loss: 0.0779 - acc: 0.9741 - val_loss: 0.0722 - val_acc: 0.9760\n",
      "Epoch 14/20\n",
      "127656/127656 [==============================] - 222s 2ms/step - loss: 0.0773 - acc: 0.9742 - val_loss: 0.0745 - val_acc: 0.9759\n",
      "Epoch 15/20\n",
      "127656/127656 [==============================] - 222s 2ms/step - loss: 0.0773 - acc: 0.9742 - val_loss: 0.0733 - val_acc: 0.9762\n",
      "Epoch 16/20\n",
      "127656/127656 [==============================] - 222s 2ms/step - loss: 0.0766 - acc: 0.9743 - val_loss: 0.0751 - val_acc: 0.9759\n",
      "Epoch 17/20\n",
      "127656/127656 [==============================] - 222s 2ms/step - loss: 0.0767 - acc: 0.9743 - val_loss: 0.0739 - val_acc: 0.9764\n",
      "Epoch 18/20\n",
      "127656/127656 [==============================] - 221s 2ms/step - loss: 0.0762 - acc: 0.9745 - val_loss: 0.0724 - val_acc: 0.9766\n",
      "Epoch 19/20\n",
      "127656/127656 [==============================] - 221s 2ms/step - loss: 0.0763 - acc: 0.9744 - val_loss: 0.0747 - val_acc: 0.9763\n",
      "Epoch 20/20\n",
      "127656/127656 [==============================] - 221s 2ms/step - loss: 0.0756 - acc: 0.9748 - val_loss: 0.0740 - val_acc: 0.9762\n"
     ]
    }
   ],
   "source": [
    "print('Training model...')\n",
    "r = model.fit(\n",
    "  data,\n",
    "  targets,\n",
    "  batch_size=BATCH_SIZE,\n",
    "  epochs=EPOCHS,\n",
    "  validation_split=VALIDATION_SPLIT\n",
    ")\n"
   ]
  },
  {
   "cell_type": "code",
   "execution_count": 17,
   "metadata": {},
   "outputs": [
    {
     "data": {
      "image/png": "[encoded data removed]",
      "text/plain": [
       "<Figure size 432x288 with 1 Axes>"
      ]
     },
     "metadata": {},
     "output_type": "display_data"
    }
   ],
   "source": [
    "# plot some data\n",
    "%matplotlib inline\n",
    "\n",
    "plt.plot(r.history['loss'], label='loss')\n",
    "plt.plot(r.history['val_loss'], label='val_loss')\n",
    "plt.legend()\n",
    "plt.show()"
   ]
  },
  {
   "cell_type": "code",
   "execution_count": 18,
   "metadata": {},
   "outputs": [
    {
     "data": {
      "image/png": "[encoded data removed]",
      "text/plain": [
       "<Figure size 432x288 with 1 Axes>"
      ]
     },
     "metadata": {},
     "output_type": "display_data"
    }
   ],
   "source": [
    "# accuracies\n",
    "plt.plot(r.history['acc'], label='acc')\n",
    "plt.plot(r.history['val_acc'], label='val_acc')\n",
    "plt.legend()\n",
    "plt.show()"
   ]
  },
  {
   "cell_type": "code",
   "execution_count": 19,
   "metadata": {},
   "outputs": [
    {
     "name": "stdout",
     "output_type": "stream",
     "text": [
      "[0.9473192998343796, 0.9806341521183409, 0.9636587982991105, 0.9495120640339128, 0.96049594750625, 0.9583063615806502]\n",
      "0.9599877705621074\n"
     ]
    }
   ],
   "source": [
    "# plot the mean AUC over each label\n",
    "p = model.predict(data)\n",
    "aucs = []\n",
    "for j in range(6):\n",
    "    auc = roc_auc_score(targets[:,j], p[:,j])\n",
    "    aucs.append(auc)\n",
    "    \n",
    "print (aucs)\n",
    "print(np.mean(aucs))"
   ]
  },
  {
   "cell_type": "code",
   "execution_count": 20,
   "metadata": {},
   "outputs": [
    {
     "name": "stdout",
     "output_type": "stream",
     "text": [
      "Saved model to disk\n"
     ]
    }
   ],
   "source": [
    "# serialize model to JSON\n",
    "\n",
    "model_json = model.to_json()\n",
    "with open(\"cnn_hate_speech.json\", \"w\") as json_file:\n",
    "\tjson_file.write(model_json)\n",
    "    \n",
    "# serialize weights to HDF5\n",
    "model.save_weights(\"cnn_hate_speech.h5\")\n",
    "\n",
    "print(\"Saved model to disk\")"
   ]
  },
  {
   "cell_type": "code",
   "execution_count": null,
   "metadata": {},
   "outputs": [],
   "source": []
  }
 ],
 "metadata": {
  "kernelspec": {
   "display_name": "Python 2",
   "language": "python",
   "name": "python2"
  },
  "language_info": {
   "codemirror_mode": {
    "name": "ipython",
    "version": 2
   },
   "file_extension": ".py",
   "mimetype": "text/x-python",
   "name": "python",
   "nbconvert_exporter": "python",
   "pygments_lexer": "ipython2",
   "version": "2.7.12"
  }
 },
 "nbformat": 4,
 "nbformat_minor": 2
}
