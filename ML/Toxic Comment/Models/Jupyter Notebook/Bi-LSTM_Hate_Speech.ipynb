{
 "cells": [
  {
   "cell_type": "markdown",
   "metadata": {},
   "source": [
    "# Hate Speech Model using Bi-LSTM\n",
    "## Following notebook train and save weights of a Bi-LSTM on a hate speech dataset\n",
    "[You can download the dataset used from here](https://www.kaggle.com/c/jigsaw-toxic-comment-classification-challenge/ \"jigsaw-dataset\") <br>\n",
    "\n",
    "[Glove word embeddings used can be downloaded from here](https://nlp.stanford.edu/projects/glove/)\n"
   ]
  },
  {
   "cell_type": "code",
   "execution_count": 1,
   "metadata": {},
   "outputs": [
    {
     "name": "stderr",
     "output_type": "stream",
     "text": [
      "Using TensorFlow backend.\n",
      "/home/utsav/.local/lib/python2.7/site-packages/requests/__init__.py:83: RequestsDependencyWarning: Old version of cryptography ([1, 2, 3]) may cause slowdown.\n",
      "  warnings.warn(warning, RequestsDependencyWarning)\n"
     ]
    }
   ],
   "source": [
    "#importing packages\n",
    "\n",
    "from __future__ import print_function, division\n",
    "from builtins import range\n",
    "import os\n",
    "import sys\n",
    "import numpy as np\n",
    "import pandas as pd\n",
    "import matplotlib.pyplot as plt\n",
    "from keras.preprocessing.text import Tokenizer\n",
    "from keras.preprocessing.sequence import pad_sequences\n",
    "from keras.layers import Dense, Input, GlobalMaxPool1D,Bidirectional,LSTM\n",
    "from keras.layers import Conv1D, MaxPooling1D, Embedding\n",
    "from keras.models import Model\n",
    "from keras.layers import SpatialDropout1D,Dropout\n",
    "from sklearn.metrics import roc_auc_score\n",
    "from keras.models import model_from_json\n",
    "from keras import regularizers\n"
   ]
  },
  {
   "cell_type": "code",
   "execution_count": 26,
   "metadata": {},
   "outputs": [],
   "source": [
    "# some configuration \n",
    "MAX_SEQUENCE_LENGTH = 200\n",
    "MAX_VOCAB_SIZE = 22000\n",
    "EMBEDDING_DIM = 50\n",
    "VALIDATION_SPLIT = 0.2\n",
    "BATCH_SIZE = 128\n",
    "EPOCHS = 20"
   ]
  },
  {
   "cell_type": "code",
   "execution_count": 4,
   "metadata": {},
   "outputs": [
    {
     "name": "stdout",
     "output_type": "stream",
     "text": [
      "Loading word vectors...\n",
      "Found 400000 word vectors.\n"
     ]
    }
   ],
   "source": [
    "# load in pre-trained word vectors\n",
    "print('Loading word vectors...')\n",
    "word2vec = {}\n",
    "with open(os.path.join('glove.6B.%sd.txt' % EMBEDDING_DIM)) as f:\n",
    "  # word embedding file is just a space-separated text file in the format:\n",
    "  # word vec[0] vec[1] vec[2] ...\n",
    "  for line in f:\n",
    "    values = line.split()\n",
    "    word = values[0]\n",
    "    vec = np.asarray(values[1:], dtype='float32')\n",
    "    word2vec[word] = vec\n",
    "print('Found %s word vectors.' % len(word2vec))"
   ]
  },
  {
   "cell_type": "code",
   "execution_count": 5,
   "metadata": {},
   "outputs": [
    {
     "name": "stdout",
     "output_type": "stream",
     "text": [
      "Loading in comments...\n",
      "Shape of data: (159571, 8)\n",
      "First 5 rows:                  id                                       comment_text  toxic  \\\n",
      "0  0000997932d777bf  Explanation\\nWhy the edits made under my usern...      0   \n",
      "1  000103f0d9cfb60f  D'aww! He matches this background colour I'm s...      0   \n",
      "2  000113f07ec002fd  Hey man, I'm really not trying to edit war. It...      0   \n",
      "3  0001b41b1c6bb37e  \"\\nMore\\nI can't make any real suggestions on ...      0   \n",
      "4  0001d958c54c6e35  You, sir, are my hero. Any chance you remember...      0   \n",
      "\n",
      "   severe_toxic  obscene  threat  insult  identity_hate  \n",
      "0             0        0       0       0              0  \n",
      "1             0        0       0       0              0  \n",
      "2             0        0       0       0              0  \n",
      "3             0        0       0       0              0  \n",
      "4             0        0       0       0              0  \n"
     ]
    }
   ],
   "source": [
    "# prepare text samples and their labels\n",
    "print('Loading in comments...')\n",
    "\n",
    "train = pd.read_csv(\"train.csv\")\n",
    "sentences = train[\"comment_text\"].fillna(\"DUMMY_VALUE\").values # there are no na values in the data though\n",
    "possible_labels = [\"toxic\", \"severe_toxic\", \"obscene\", \"threat\", \"insult\", \"identity_hate\"]\n",
    "targets = train[possible_labels].values\n",
    "print (\"Shape of data:\",(train.shape))\n",
    "print (\"First 5 rows:\",(train.head()))\n"
   ]
  },
  {
   "cell_type": "code",
   "execution_count": 6,
   "metadata": {},
   "outputs": [
    {
     "name": "stdout",
     "output_type": "stream",
     "text": [
      "max sequence length: 1400\n",
      "min sequence length: 0\n",
      "median sentences length: 35\n"
     ]
    }
   ],
   "source": [
    "# convert the sentences (strings) into integers\n",
    "tokenizer = Tokenizer(num_words=MAX_VOCAB_SIZE)\n",
    "tokenizer.fit_on_texts(sentences)\n",
    "sequences = tokenizer.texts_to_sequences(sentences)\n",
    "\n",
    "print(\"max sequence length:\", max(len(s) for s in sequences))\n",
    "print(\"min sequence length:\", min(len(s) for s in sequences))\n",
    "s = sorted(len(s) for s in sequences)\n",
    "print(\"median sentences length:\", s[len(s) // 2])\n"
   ]
  },
  {
   "cell_type": "code",
   "execution_count": 7,
   "metadata": {},
   "outputs": [
    {
     "name": "stdout",
     "output_type": "stream",
     "text": [
      "Found 210554 unique tokens.\n"
     ]
    }
   ],
   "source": [
    "# get word -> integer mapping\n",
    "word2idx = tokenizer.word_index\n",
    "data = pad_sequences(sequences, maxlen=MAX_SEQUENCE_LENGTH)\n",
    "print('Found %s unique tokens.' % len(word2idx))\n"
   ]
  },
  {
   "cell_type": "code",
   "execution_count": 8,
   "metadata": {},
   "outputs": [
    {
     "name": "stdout",
     "output_type": "stream",
     "text": [
      "Filling pre-trained embeddings...\n",
      "Completed...\n"
     ]
    }
   ],
   "source": [
    "# prepare embedding matrix\n",
    "print('Filling pre-trained embeddings...')\n",
    "num_words = min(MAX_VOCAB_SIZE, len(word2idx) + 1)\n",
    "embedding_matrix = np.zeros((num_words, EMBEDDING_DIM))\n",
    "for word, i in word2idx.items():\n",
    "  if i < MAX_VOCAB_SIZE:\n",
    "    embedding_vector = word2vec.get(word)\n",
    "    if embedding_vector is not None:\n",
    "      # words not found in embedding index will be all zeros.\n",
    "      embedding_matrix[i] = embedding_vector\n",
    "\n",
    "print('Completed...')"
   ]
  },
  {
   "cell_type": "code",
   "execution_count": 23,
   "metadata": {},
   "outputs": [],
   "source": [
    "# load pre-trained word embeddings into an Embedding layer\n",
    "embedding_layer = Embedding(\n",
    "  num_words,\n",
    "  EMBEDDING_DIM,\n",
    "  weights=[embedding_matrix],\n",
    "  input_length=MAX_SEQUENCE_LENGTH,\n",
    "  trainable=False\n",
    ")\n"
   ]
  },
  {
   "cell_type": "code",
   "execution_count": 36,
   "metadata": {},
   "outputs": [
    {
     "name": "stdout",
     "output_type": "stream",
     "text": [
      "Building model...\n",
      "##############\n",
      "Model built...\n",
      "_________________________________________________________________\n",
      "Layer (type)                 Output Shape              Param #   \n",
      "=================================================================\n",
      "input_10 (InputLayer)        (None, 200)               0         \n",
      "_________________________________________________________________\n",
      "embedding_2 (Embedding)      (None, 200, 50)           1100000   \n",
      "_________________________________________________________________\n",
      "bidirectional_8 (Bidirection (None, 200, 60)           19440     \n",
      "_________________________________________________________________\n",
      "global_max_pooling1d_7 (Glob (None, 60)                0         \n",
      "_________________________________________________________________\n",
      "dense_12 (Dense)             (None, 30)                1830      \n",
      "_________________________________________________________________\n",
      "dropout_6 (Dropout)          (None, 30)                0         \n",
      "_________________________________________________________________\n",
      "dense_13 (Dense)             (None, 6)                 186       \n",
      "=================================================================\n",
      "Total params: 1,121,456\n",
      "Trainable params: 21,456\n",
      "Non-trainable params: 1,100,000\n",
      "_________________________________________________________________\n",
      "None\n"
     ]
    }
   ],
   "source": [
    "print('Building model...')\n",
    "\n",
    "# create an LSTM network with a single LSTM\n",
    "input_ = Input(shape=(MAX_SEQUENCE_LENGTH,))\n",
    "x = embedding_layer(input_)\n",
    "# x = LSTM(15, return_sequences=True)(x)\n",
    "x = Bidirectional(LSTM(30, return_sequences=True, dropout=0.2, recurrent_dropout=0.2))(x) #use dropout and regularization\n",
    "x = GlobalMaxPool1D()(x)\n",
    "x = Dense(30, activation=\"relu\")(x)\n",
    "x = Dropout(0.5)(x)\n",
    "output = Dense(len(possible_labels), activation=\"sigmoid\")(x)\n",
    "\n",
    "model = Model(input_, output)\n",
    "model.compile(\n",
    "  loss='binary_crossentropy',\n",
    "  optimizer='adam',\n",
    "  metrics=['accuracy']\n",
    ")\n",
    "print('##############')\n",
    "print('Model built...')\n",
    "print(model.summary())"
   ]
  },
  {
   "cell_type": "code",
   "execution_count": 28,
   "metadata": {},
   "outputs": [
    {
     "name": "stdout",
     "output_type": "stream",
     "text": [
      "Training model...\n",
      "Train on 127656 samples, validate on 31915 samples\n",
      "Epoch 1/20\n",
      "127656/127656 [==============================] - 659s 5ms/step - loss: 0.1328 - acc: 0.9524 - val_loss: 0.0632 - val_acc: 0.9778\n",
      "Epoch 2/20\n",
      "127656/127656 [==============================] - 627s 5ms/step - loss: 0.0709 - acc: 0.9768 - val_loss: 0.0591 - val_acc: 0.9790\n",
      "Epoch 3/20\n",
      "127656/127656 [==============================] - 558s 4ms/step - loss: 0.0662 - acc: 0.9780 - val_loss: 0.0568 - val_acc: 0.9798\n",
      "Epoch 4/20\n",
      "127656/127656 [==============================] - 612s 5ms/step - loss: 0.0635 - acc: 0.9786 - val_loss: 0.0556 - val_acc: 0.9801\n",
      "Epoch 5/20\n",
      "127656/127656 [==============================] - 608s 5ms/step - loss: 0.0614 - acc: 0.9789 - val_loss: 0.0549 - val_acc: 0.9803\n",
      "Epoch 6/20\n",
      "127656/127656 [==============================] - 733s 6ms/step - loss: 0.0597 - acc: 0.9794 - val_loss: 0.0534 - val_acc: 0.9804\n",
      "Epoch 7/20\n",
      "127656/127656 [==============================] - 950s 7ms/step - loss: 0.0584 - acc: 0.9796 - val_loss: 0.0531 - val_acc: 0.9806\n",
      "Epoch 8/20\n",
      "127656/127656 [==============================] - 981s 8ms/step - loss: 0.0575 - acc: 0.9798 - val_loss: 0.0526 - val_acc: 0.9806\n",
      "Epoch 9/20\n",
      "127656/127656 [==============================] - 991s 8ms/step - loss: 0.0565 - acc: 0.9801 - val_loss: 0.0524 - val_acc: 0.9810\n",
      "Epoch 10/20\n",
      "127656/127656 [==============================] - 1003s 8ms/step - loss: 0.0562 - acc: 0.9802 - val_loss: 0.0519 - val_acc: 0.9811\n",
      "Epoch 11/20\n",
      "127656/127656 [==============================] - 973s 8ms/step - loss: 0.0555 - acc: 0.9801 - val_loss: 0.0516 - val_acc: 0.9812\n",
      "Epoch 12/20\n",
      "127656/127656 [==============================] - 952s 7ms/step - loss: 0.0550 - acc: 0.9802 - val_loss: 0.0514 - val_acc: 0.9811\n",
      "Epoch 13/20\n",
      "127656/127656 [==============================] - 956s 7ms/step - loss: 0.0542 - acc: 0.9806 - val_loss: 0.0509 - val_acc: 0.9812\n",
      "Epoch 14/20\n",
      "127656/127656 [==============================] - 1072s 8ms/step - loss: 0.0540 - acc: 0.9806 - val_loss: 0.0521 - val_acc: 0.9811\n",
      "Epoch 15/20\n",
      "127656/127656 [==============================] - 598s 5ms/step - loss: 0.0536 - acc: 0.9807 - val_loss: 0.0503 - val_acc: 0.9815\n",
      "Epoch 16/20\n",
      "127656/127656 [==============================] - 566s 4ms/step - loss: 0.0531 - acc: 0.9809 - val_loss: 0.0501 - val_acc: 0.9816\n",
      "Epoch 17/20\n",
      "127656/127656 [==============================] - 570s 4ms/step - loss: 0.0529 - acc: 0.9809 - val_loss: 0.0498 - val_acc: 0.9816\n",
      "Epoch 18/20\n",
      "127656/127656 [==============================] - 567s 4ms/step - loss: 0.0524 - acc: 0.9809 - val_loss: 0.0500 - val_acc: 0.9815\n",
      "Epoch 19/20\n",
      "127656/127656 [==============================] - 565s 4ms/step - loss: 0.0523 - acc: 0.9810 - val_loss: 0.0505 - val_acc: 0.9815\n",
      "Epoch 20/20\n",
      "127656/127656 [==============================] - 566s 4ms/step - loss: 0.0522 - acc: 0.9810 - val_loss: 0.0506 - val_acc: 0.9815\n"
     ]
    }
   ],
   "source": [
    "print('Training model...')\n",
    "r = model.fit(\n",
    "  data,\n",
    "  targets,\n",
    "  batch_size=BATCH_SIZE,\n",
    "  epochs=EPOCHS,\n",
    "  validation_split=VALIDATION_SPLIT\n",
    ")\n",
    "\n"
   ]
  },
  {
   "cell_type": "code",
   "execution_count": 29,
   "metadata": {},
   "outputs": [
    {
     "data": {
      "image/png": "[encoded data removed]",
      "text/plain": [
       "<Figure size 432x288 with 1 Axes>"
      ]
     },
     "metadata": {},
     "output_type": "display_data"
    }
   ],
   "source": [
    "# plot some data\n",
    "%matplotlib inline\n",
    "\n",
    "plt.plot(r.history['loss'], label='loss')\n",
    "plt.plot(r.history['val_loss'], label='val_loss')\n",
    "plt.legend()\n",
    "plt.show()"
   ]
  },
  {
   "cell_type": "code",
   "execution_count": 30,
   "metadata": {},
   "outputs": [
    {
     "data": {
      "image/png": "[encoded data removed]",
      "text/plain": [
       "<Figure size 432x288 with 1 Axes>"
      ]
     },
     "metadata": {},
     "output_type": "display_data"
    }
   ],
   "source": [
    "# accuracies\n",
    "plt.plot(r.history['acc'], label='acc')\n",
    "plt.plot(r.history['val_acc'], label='val_acc')\n",
    "plt.legend()\n",
    "plt.show()"
   ]
  },
  {
   "cell_type": "code",
   "execution_count": 33,
   "metadata": {
    "scrolled": true
   },
   "outputs": [
    {
     "name": "stdout",
     "output_type": "stream",
     "text": [
      "[0.9788819962592136, 0.9899285046750486, 0.9891950902636295, 0.9701005585349187, 0.9841077704357148, 0.9827548137069199]\n",
      "0.9824947889792407\n"
     ]
    }
   ],
   "source": [
    "# plot the mean AUC over each label\n",
    "p = model.predict(data)\n",
    "aucs = []\n",
    "for j in range(6):\n",
    "    auc = roc_auc_score(targets[:,j], p[:,j])\n",
    "    aucs.append(auc)\n",
    "    \n",
    "print (aucs)\n",
    "print(np.mean(aucs))"
   ]
  },
  {
   "cell_type": "code",
   "execution_count": 34,
   "metadata": {},
   "outputs": [
    {
     "name": "stdout",
     "output_type": "stream",
     "text": [
      "Saved model to disk\n"
     ]
    }
   ],
   "source": [
    "# serialize model to JSON\n",
    "model_json = model.to_json()\n",
    "with open(\"lstm_hate_speech.json\", \"w\") as json_file:\n",
    "\tjson_file.write(model_json)\n",
    "# serialize weights to HDF5\n",
    "model.save_weights(\"lstm_hate_speech.h5\")\n",
    "print(\"Saved model to disk\")\n"
   ]
  },
  {
   "cell_type": "code",
   "execution_count": null,
   "metadata": {},
   "outputs": [],
   "source": []
  }
 ],
 "metadata": {
  "kernelspec": {
   "display_name": "Python 2",
   "language": "python",
   "name": "python2"
  },
  "language_info": {
   "codemirror_mode": {
    "name": "ipython",
    "version": 2
   },
   "file_extension": ".py",
   "mimetype": "text/x-python",
   "name": "python",
   "nbconvert_exporter": "python",
   "pygments_lexer": "ipython2",
   "version": "2.7.12"
  }
 },
 "nbformat": 4,
 "nbformat_minor": 2
}
